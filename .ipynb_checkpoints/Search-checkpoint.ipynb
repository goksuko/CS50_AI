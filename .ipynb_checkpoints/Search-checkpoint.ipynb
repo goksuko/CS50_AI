{
 "cells": [
  {
   "cell_type": "markdown",
   "id": "26c17a26-859a-490a-9a12-3f4023eb8bbc",
   "metadata": {},
   "source": [
    "## Search Problems\n",
    "* initial state\n",
    "* actions\n",
    "* transition model\n",
    "* goal test\n",
    "* path cost function\n",
    "=> optimal solution\n",
    "\n"
   ]
  },
  {
   "cell_type": "code",
   "execution_count": null,
   "id": "25d04ad1-e97f-40e4-9488-31cc251b3fe1",
   "metadata": {},
   "outputs": [],
   "source": []
  }
 ],
 "metadata": {
  "kernelspec": {
   "display_name": "Python 3 (ipykernel)",
   "language": "python",
   "name": "python3"
  },
  "language_info": {
   "codemirror_mode": {
    "name": "ipython",
    "version": 3
   },
   "file_extension": ".py",
   "mimetype": "text/x-python",
   "name": "python",
   "nbconvert_exporter": "python",
   "pygments_lexer": "ipython3",
   "version": "3.12.7"
  }
 },
 "nbformat": 4,
 "nbformat_minor": 5
}
